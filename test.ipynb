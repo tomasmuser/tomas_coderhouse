{
 "cells": [
  {
   "cell_type": "code",
   "execution_count": 1,
   "metadata": {},
   "outputs": [],
   "source": [
    "import requests\n",
    "import pandas as pd\n",
    "import json\n",
    "from keys import api_key as key\n",
    "from datetime import date, timedelta\n",
    "import pyodbc"
   ]
  },
  {
   "cell_type": "code",
   "execution_count": 2,
   "metadata": {},
   "outputs": [],
   "source": [
    "url=\"https://api.weatherbit.io/v2.0/history/daily?lat={0}&lon={1}&start_date={2}&end_date={3}&key={4}\"\n",
    "\n",
    "latitude = 40.776676\n",
    "longitude = -73.971321\n",
    "\n",
    "year = 2022\n",
    "month = 1\n",
    "day = 1"
   ]
  },
  {
   "cell_type": "code",
   "execution_count": 3,
   "metadata": {},
   "outputs": [],
   "source": [
    "start_date = date(year,month,day) # 2023-04-04\n",
    "end_date = start_date + timedelta(1) # Request required furter date\n",
    "\n",
    "full_url = url.format(latitude,longitude,start_date,end_date,key)"
   ]
  },
  {
   "cell_type": "code",
   "execution_count": 4,
   "metadata": {},
   "outputs": [
    {
     "data": {
      "text/plain": [
       "'https://api.weatherbit.io/v2.0/history/daily?lat=40.776676&lon=-73.971321&start_date=2022-01-01&end_date=2022-01-02&key=23983b0bb9f04439b81bc51640bb2e72'"
      ]
     },
     "execution_count": 4,
     "metadata": {},
     "output_type": "execute_result"
    }
   ],
   "source": [
    "full_url\n"
   ]
  },
  {
   "cell_type": "code",
   "execution_count": 5,
   "metadata": {},
   "outputs": [],
   "source": [
    "response = requests.get(full_url)"
   ]
  },
  {
   "cell_type": "code",
   "execution_count": 6,
   "metadata": {},
   "outputs": [
    {
     "name": "stdout",
     "output_type": "stream",
     "text": [
      "{\"city_id\":\"5125771\",\"city_name\":\"Manhattan\",\"country_code\":\"US\",\"data\":[{\"clouds\":100,\"datetime\":\"2022-01-01\",\"dewpt\":10.4,\"dhi\":26.5,\"dni\":229.3,\"ghi\":98.7,\"max_dhi\":91.4,\"max_dni\":772.4,\"max_ghi\":425.9,\"max_temp\":13.3,\"max_temp_ts\":1641074400,\"max_uv\":0.7,\"max_wind_dir\":157,\"max_wind_spd\":4.5,\"max_wind_spd_ts\":1641063600,\"min_temp\":10,\"min_temp_ts\":1641031200,\"precip\":38.5,\"precip_gpm\":38.5,\"pres\":1003.3,\"revision_status\":\"final\",\"rh\":92.6,\"slp\":1008.3,\"snow\":0,\"snow_depth\":0,\"solar_rad\":9.9,\"t_dhi\":637.1,\"t_dni\":5502.1,\"t_ghi\":2368.2,\"t_solar_rad\":236.8,\"temp\":11.6,\"ts\":1641013200,\"wind_dir\":157,\"wind_gust_spd\":3.9,\"wind_spd\":2.1}],\"lat\":40.776676,\"lon\":-73.971321,\"sources\":[\"720553-99999\",\"725053-94728\",\"USW00094728\",\"imerg\",\"merra2\",\"era5\",\"modis\"],\"state_code\":\"NY\",\"station_id\":\"725053-94728\",\"timezone\":\"America/New_York\"}\n",
      "\n"
     ]
    }
   ],
   "source": [
    "print(response.text)"
   ]
  },
  {
   "cell_type": "code",
   "execution_count": 7,
   "metadata": {},
   "outputs": [
    {
     "name": "stdout",
     "output_type": "stream",
     "text": [
      "OK\n"
     ]
    }
   ],
   "source": [
    "if response.status_code == 200:\n",
    "    print(\"OK\")"
   ]
  },
  {
   "cell_type": "code",
   "execution_count": 8,
   "metadata": {},
   "outputs": [
    {
     "data": {
      "text/plain": [
       "{'city_id': '5125771',\n",
       " 'city_name': 'Manhattan',\n",
       " 'country_code': 'US',\n",
       " 'data': [{'clouds': 100,\n",
       "   'datetime': '2022-01-01',\n",
       "   'dewpt': 10.4,\n",
       "   'dhi': 26.5,\n",
       "   'dni': 229.3,\n",
       "   'ghi': 98.7,\n",
       "   'max_dhi': 91.4,\n",
       "   'max_dni': 772.4,\n",
       "   'max_ghi': 425.9,\n",
       "   'max_temp': 13.3,\n",
       "   'max_temp_ts': 1641074400,\n",
       "   'max_uv': 0.7,\n",
       "   'max_wind_dir': 157,\n",
       "   'max_wind_spd': 4.5,\n",
       "   'max_wind_spd_ts': 1641063600,\n",
       "   'min_temp': 10,\n",
       "   'min_temp_ts': 1641031200,\n",
       "   'precip': 38.5,\n",
       "   'precip_gpm': 38.5,\n",
       "   'pres': 1003.3,\n",
       "   'revision_status': 'final',\n",
       "   'rh': 92.6,\n",
       "   'slp': 1008.3,\n",
       "   'snow': 0,\n",
       "   'snow_depth': 0,\n",
       "   'solar_rad': 9.9,\n",
       "   't_dhi': 637.1,\n",
       "   't_dni': 5502.1,\n",
       "   't_ghi': 2368.2,\n",
       "   't_solar_rad': 236.8,\n",
       "   'temp': 11.6,\n",
       "   'ts': 1641013200,\n",
       "   'wind_dir': 157,\n",
       "   'wind_gust_spd': 3.9,\n",
       "   'wind_spd': 2.1}],\n",
       " 'lat': 40.776676,\n",
       " 'lon': -73.971321,\n",
       " 'sources': ['720553-99999',\n",
       "  '725053-94728',\n",
       "  'USW00094728',\n",
       "  'imerg',\n",
       "  'merra2',\n",
       "  'era5',\n",
       "  'modis'],\n",
       " 'state_code': 'NY',\n",
       " 'station_id': '725053-94728',\n",
       " 'timezone': 'America/New_York'}"
      ]
     },
     "execution_count": 8,
     "metadata": {},
     "output_type": "execute_result"
    }
   ],
   "source": [
    "response.json()"
   ]
  },
  {
   "cell_type": "code",
   "execution_count": 9,
   "metadata": {},
   "outputs": [],
   "source": [
    "json_data = json.loads(response.text, parse_constant=lambda x: x.replace(\"'\", '\"'))"
   ]
  },
  {
   "cell_type": "code",
   "execution_count": 10,
   "metadata": {},
   "outputs": [
    {
     "data": {
      "text/plain": [
       "{'city_id': '5125771',\n",
       " 'city_name': 'Manhattan',\n",
       " 'country_code': 'US',\n",
       " 'data': [{'clouds': 100,\n",
       "   'datetime': '2022-01-01',\n",
       "   'dewpt': 10.4,\n",
       "   'dhi': 26.5,\n",
       "   'dni': 229.3,\n",
       "   'ghi': 98.7,\n",
       "   'max_dhi': 91.4,\n",
       "   'max_dni': 772.4,\n",
       "   'max_ghi': 425.9,\n",
       "   'max_temp': 13.3,\n",
       "   'max_temp_ts': 1641074400,\n",
       "   'max_uv': 0.7,\n",
       "   'max_wind_dir': 157,\n",
       "   'max_wind_spd': 4.5,\n",
       "   'max_wind_spd_ts': 1641063600,\n",
       "   'min_temp': 10,\n",
       "   'min_temp_ts': 1641031200,\n",
       "   'precip': 38.5,\n",
       "   'precip_gpm': 38.5,\n",
       "   'pres': 1003.3,\n",
       "   'revision_status': 'final',\n",
       "   'rh': 92.6,\n",
       "   'slp': 1008.3,\n",
       "   'snow': 0,\n",
       "   'snow_depth': 0,\n",
       "   'solar_rad': 9.9,\n",
       "   't_dhi': 637.1,\n",
       "   't_dni': 5502.1,\n",
       "   't_ghi': 2368.2,\n",
       "   't_solar_rad': 236.8,\n",
       "   'temp': 11.6,\n",
       "   'ts': 1641013200,\n",
       "   'wind_dir': 157,\n",
       "   'wind_gust_spd': 3.9,\n",
       "   'wind_spd': 2.1}],\n",
       " 'lat': 40.776676,\n",
       " 'lon': -73.971321,\n",
       " 'sources': ['720553-99999',\n",
       "  '725053-94728',\n",
       "  'USW00094728',\n",
       "  'imerg',\n",
       "  'merra2',\n",
       "  'era5',\n",
       "  'modis'],\n",
       " 'state_code': 'NY',\n",
       " 'station_id': '725053-94728',\n",
       " 'timezone': 'America/New_York'}"
      ]
     },
     "execution_count": 10,
     "metadata": {},
     "output_type": "execute_result"
    }
   ],
   "source": [
    "json_data"
   ]
  },
  {
   "cell_type": "code",
   "execution_count": 11,
   "metadata": {},
   "outputs": [],
   "source": [
    "df = pd.json_normalize(json_data, record_path =['data'])"
   ]
  },
  {
   "cell_type": "code",
   "execution_count": 12,
   "metadata": {},
   "outputs": [
    {
     "data": {
      "text/plain": [
       "Index(['clouds', 'datetime', 'dewpt', 'dhi', 'dni', 'ghi', 'max_dhi',\n",
       "       'max_dni', 'max_ghi', 'max_temp', 'max_temp_ts', 'max_uv',\n",
       "       'max_wind_dir', 'max_wind_spd', 'max_wind_spd_ts', 'min_temp',\n",
       "       'min_temp_ts', 'precip', 'precip_gpm', 'pres', 'revision_status', 'rh',\n",
       "       'slp', 'snow', 'snow_depth', 'solar_rad', 't_dhi', 't_dni', 't_ghi',\n",
       "       't_solar_rad', 'temp', 'ts', 'wind_dir', 'wind_gust_spd', 'wind_spd'],\n",
       "      dtype='object')"
      ]
     },
     "execution_count": 12,
     "metadata": {},
     "output_type": "execute_result"
    }
   ],
   "source": [
    "df.columns\n"
   ]
  },
  {
   "cell_type": "code",
   "execution_count": 14,
   "metadata": {},
   "outputs": [],
   "source": [
    "import psycopg2\n"
   ]
  },
  {
   "cell_type": "code",
   "execution_count": 15,
   "metadata": {},
   "outputs": [
    {
     "ename": "OperationalError",
     "evalue": "could not connect to server: Connection timed out (0x0000274C/10060)\n\tIs the server running on host \"data-engineer-cluster.cyhh5bfevlmn.us-east-1.redshift.amazonaws.com\" (52.44.43.227) and accepting\n\tTCP/IP connections on port 5432?\n",
     "output_type": "error",
     "traceback": [
      "\u001b[1;31m---------------------------------------------------------------------------\u001b[0m",
      "\u001b[1;31mOperationalError\u001b[0m                          Traceback (most recent call last)",
      "\u001b[1;32mc:\\Users\\tomas\\OneDrive\\Documents\\CODERHAUSE\\test.ipynb Cell 14\u001b[0m in \u001b[0;36m<cell line: 9>\u001b[1;34m()\u001b[0m\n\u001b[0;32m      <a href='vscode-notebook-cell:/c%3A/Users/tomas/OneDrive/Documents/CODERHAUSE/test.ipynb#X22sZmlsZQ%3D%3D?line=1'>2</a>\u001b[0m     conn \u001b[39m=\u001b[39m psycopg2\u001b[39m.\u001b[39mconnect(\n\u001b[0;32m      <a href='vscode-notebook-cell:/c%3A/Users/tomas/OneDrive/Documents/CODERHAUSE/test.ipynb#X22sZmlsZQ%3D%3D?line=2'>3</a>\u001b[0m         host\u001b[39m=\u001b[39m\u001b[39m\"\u001b[39m\u001b[39mdata-engineer-cluster.cyhh5bfevlmn.us-east-1.redshift.amazonaws.com\u001b[39m\u001b[39m\"\u001b[39m,\n\u001b[0;32m      <a href='vscode-notebook-cell:/c%3A/Users/tomas/OneDrive/Documents/CODERHAUSE/test.ipynb#X22sZmlsZQ%3D%3D?line=3'>4</a>\u001b[0m         database\u001b[39m=\u001b[39m\u001b[39m\"\u001b[39m\u001b[39mdata-engineer-database\u001b[39m\u001b[39m\"\u001b[39m,\n\u001b[0;32m      <a href='vscode-notebook-cell:/c%3A/Users/tomas/OneDrive/Documents/CODERHAUSE/test.ipynb#X22sZmlsZQ%3D%3D?line=4'>5</a>\u001b[0m         user\u001b[39m=\u001b[39m\u001b[39m\"\u001b[39m\u001b[39mtomas_muser_coderhouse\u001b[39m\u001b[39m\"\u001b[39m,\n\u001b[0;32m      <a href='vscode-notebook-cell:/c%3A/Users/tomas/OneDrive/Documents/CODERHAUSE/test.ipynb#X22sZmlsZQ%3D%3D?line=5'>6</a>\u001b[0m         password\u001b[39m=\u001b[39m\u001b[39m\"\u001b[39m\u001b[39mMq2Fed572VzN\u001b[39m\u001b[39m\"\u001b[39m)\n\u001b[0;32m      <a href='vscode-notebook-cell:/c%3A/Users/tomas/OneDrive/Documents/CODERHAUSE/test.ipynb#X22sZmlsZQ%3D%3D?line=7'>8</a>\u001b[0m     \u001b[39mreturn\u001b[39;00m conn\n\u001b[1;32m----> <a href='vscode-notebook-cell:/c%3A/Users/tomas/OneDrive/Documents/CODERHAUSE/test.ipynb#X22sZmlsZQ%3D%3D?line=8'>9</a>\u001b[0m conn \u001b[39m=\u001b[39m conection()\n\u001b[0;32m     <a href='vscode-notebook-cell:/c%3A/Users/tomas/OneDrive/Documents/CODERHAUSE/test.ipynb#X22sZmlsZQ%3D%3D?line=9'>10</a>\u001b[0m cursor \u001b[39m=\u001b[39m conn\u001b[39m.\u001b[39mcursor()\n",
      "\u001b[1;32mc:\\Users\\tomas\\OneDrive\\Documents\\CODERHAUSE\\test.ipynb Cell 14\u001b[0m in \u001b[0;36mconection\u001b[1;34m()\u001b[0m\n\u001b[0;32m      <a href='vscode-notebook-cell:/c%3A/Users/tomas/OneDrive/Documents/CODERHAUSE/test.ipynb#X22sZmlsZQ%3D%3D?line=0'>1</a>\u001b[0m \u001b[39mdef\u001b[39;00m \u001b[39mconection\u001b[39m():\n\u001b[1;32m----> <a href='vscode-notebook-cell:/c%3A/Users/tomas/OneDrive/Documents/CODERHAUSE/test.ipynb#X22sZmlsZQ%3D%3D?line=1'>2</a>\u001b[0m     conn \u001b[39m=\u001b[39m psycopg2\u001b[39m.\u001b[39;49mconnect(\n\u001b[0;32m      <a href='vscode-notebook-cell:/c%3A/Users/tomas/OneDrive/Documents/CODERHAUSE/test.ipynb#X22sZmlsZQ%3D%3D?line=2'>3</a>\u001b[0m         host\u001b[39m=\u001b[39;49m\u001b[39m\"\u001b[39;49m\u001b[39mdata-engineer-cluster.cyhh5bfevlmn.us-east-1.redshift.amazonaws.com\u001b[39;49m\u001b[39m\"\u001b[39;49m,\n\u001b[0;32m      <a href='vscode-notebook-cell:/c%3A/Users/tomas/OneDrive/Documents/CODERHAUSE/test.ipynb#X22sZmlsZQ%3D%3D?line=3'>4</a>\u001b[0m         database\u001b[39m=\u001b[39;49m\u001b[39m\"\u001b[39;49m\u001b[39mdata-engineer-database\u001b[39;49m\u001b[39m\"\u001b[39;49m,\n\u001b[0;32m      <a href='vscode-notebook-cell:/c%3A/Users/tomas/OneDrive/Documents/CODERHAUSE/test.ipynb#X22sZmlsZQ%3D%3D?line=4'>5</a>\u001b[0m         user\u001b[39m=\u001b[39;49m\u001b[39m\"\u001b[39;49m\u001b[39mtomas_muser_coderhouse\u001b[39;49m\u001b[39m\"\u001b[39;49m,\n\u001b[0;32m      <a href='vscode-notebook-cell:/c%3A/Users/tomas/OneDrive/Documents/CODERHAUSE/test.ipynb#X22sZmlsZQ%3D%3D?line=5'>6</a>\u001b[0m         password\u001b[39m=\u001b[39;49m\u001b[39m\"\u001b[39;49m\u001b[39mMq2Fed572VzN\u001b[39;49m\u001b[39m\"\u001b[39;49m)\n\u001b[0;32m      <a href='vscode-notebook-cell:/c%3A/Users/tomas/OneDrive/Documents/CODERHAUSE/test.ipynb#X22sZmlsZQ%3D%3D?line=7'>8</a>\u001b[0m     \u001b[39mreturn\u001b[39;00m conn\n",
      "File \u001b[1;32mc:\\Users\\tomas\\anaconda3\\lib\\site-packages\\psycopg2\\__init__.py:122\u001b[0m, in \u001b[0;36mconnect\u001b[1;34m(dsn, connection_factory, cursor_factory, **kwargs)\u001b[0m\n\u001b[0;32m    119\u001b[0m     kwasync[\u001b[39m'\u001b[39m\u001b[39masync_\u001b[39m\u001b[39m'\u001b[39m] \u001b[39m=\u001b[39m kwargs\u001b[39m.\u001b[39mpop(\u001b[39m'\u001b[39m\u001b[39masync_\u001b[39m\u001b[39m'\u001b[39m)\n\u001b[0;32m    121\u001b[0m dsn \u001b[39m=\u001b[39m _ext\u001b[39m.\u001b[39mmake_dsn(dsn, \u001b[39m*\u001b[39m\u001b[39m*\u001b[39mkwargs)\n\u001b[1;32m--> 122\u001b[0m conn \u001b[39m=\u001b[39m _connect(dsn, connection_factory\u001b[39m=\u001b[39mconnection_factory, \u001b[39m*\u001b[39m\u001b[39m*\u001b[39mkwasync)\n\u001b[0;32m    123\u001b[0m \u001b[39mif\u001b[39;00m cursor_factory \u001b[39mis\u001b[39;00m \u001b[39mnot\u001b[39;00m \u001b[39mNone\u001b[39;00m:\n\u001b[0;32m    124\u001b[0m     conn\u001b[39m.\u001b[39mcursor_factory \u001b[39m=\u001b[39m cursor_factory\n",
      "\u001b[1;31mOperationalError\u001b[0m: could not connect to server: Connection timed out (0x0000274C/10060)\n\tIs the server running on host \"data-engineer-cluster.cyhh5bfevlmn.us-east-1.redshift.amazonaws.com\" (52.44.43.227) and accepting\n\tTCP/IP connections on port 5432?\n"
     ]
    }
   ],
   "source": [
    "def conection():\n",
    "    conn = psycopg2.connect(\n",
    "        host=\"data-engineer-cluster.cyhh5bfevlmn.us-east-1.redshift.amazonaws.com\",\n",
    "        database=\"data-engineer-database\",\n",
    "        user=\"tomas_muser_coderhouse\",\n",
    "        port=\"5439\",\n",
    "        password=\"Mq2Fed572VzN\")\n",
    "    \n",
    "    return conn\n",
    "conn = conection()\n",
    "cursor = conn.cursor()"
   ]
  },
  {
   "cell_type": "code",
   "execution_count": null,
   "metadata": {},
   "outputs": [],
   "source": [
    "# def conection():\n",
    "#     conn = pyodbc.connect(\"\"\"\n",
    "#             Driver={Amazon Redshift (x64)};\n",
    "#             Server=data-engineer-cluster.cyhh5bfevlmn.us-east-1.redshift.amazonaws.com;\n",
    "#             Database=data-engineer-database;\n",
    "#             UID=tomas_muser_coderhouse;\n",
    "#             PWD=Mq2Fed572VzN;\n",
    "#             Port=5439\n",
    "#             \"\"\")\n",
    "#     return conn\n",
    "# conn = conection()\n",
    "# cursor = conn.cursor()"
   ]
  },
  {
   "cell_type": "code",
   "execution_count": null,
   "metadata": {},
   "outputs": [],
   "source": [
    "# cursor.execute(\"\"\"\n",
    "#                 CREATE TABLE weather_daily\n",
    "#                 (clouds VARCHAR(15),\n",
    "#                 datetime VARCHAR(15),\n",
    "#                 dewpt VARCHAR(15),\n",
    "#                 dhi VARCHAR(15),\n",
    "#                 dni VARCHAR(15),\n",
    "#                 ghi VARCHAR(15),\n",
    "#                 max_dhi VARCHAR(15),\n",
    "#                 max_dni VARCHAR(15),\n",
    "#                 max_ghi VARCHAR(15),\n",
    "#                 max_temp VARCHAR(15),\n",
    "#                 max_temp_ts VARCHAR(15),\n",
    "#                 max_uv VARCHAR(15),\n",
    "#                 max_wind_dir VARCHAR(15),\n",
    "#                 max_wind_spd VARCHAR(15),\n",
    "#                 max_wind_spd_ts VARCHAR(15),\n",
    "#                 min_temp VARCHAR(15),\n",
    "#                 min_temp_ts VARCHAR(15),\n",
    "#                 precip VARCHAR(15),\n",
    "#                 precip_gpm VARCHAR(15),\n",
    "#                 pres VARCHAR(15),\n",
    "#                 revision_status VARCHAR(15),\n",
    "#                 rh VARCHAR(15),\n",
    "#                 slp VARCHAR(15),\n",
    "#                 snow VARCHAR(15),\n",
    "#                 snow_depth VARCHAR(15),\n",
    "#                 solar_rad VARCHAR(15),\n",
    "#                 t_dhi VARCHAR(15),\n",
    "#                 t_dni VARCHAR(15),\n",
    "#                 t_ghi VARCHAR(15),\n",
    "#                 t_solar_rad VARCHAR(15),\n",
    "#                 temp VARCHAR(15),\n",
    "#                 ts VARCHAR(15),\n",
    "#                 wind_dir VARCHAR(15),\n",
    "#                 wind_gust_spd VARCHAR(15),\n",
    "#                 wind_spd VARCHAR(15));\n",
    "#                 \"\"\")"
   ]
  },
  {
   "cell_type": "code",
   "execution_count": null,
   "metadata": {},
   "outputs": [],
   "source": [
    "# pyodbc.connect(\"Driver={Amazon Redshift (x64)};Server=data-engineer-cluster.cyhh5bfevlmn.us-east-1.redshift.amazonaws.com;Database=tomas_muser_coderhouse;UID=tomas_muser_coderhouse;PWD=Mq2Fed572VzN;Port=5439\")"
   ]
  }
 ],
 "metadata": {
  "kernelspec": {
   "display_name": "base",
   "language": "python",
   "name": "python3"
  },
  "language_info": {
   "codemirror_mode": {
    "name": "ipython",
    "version": 3
   },
   "file_extension": ".py",
   "mimetype": "text/x-python",
   "name": "python",
   "nbconvert_exporter": "python",
   "pygments_lexer": "ipython3",
   "version": "3.9.12"
  },
  "orig_nbformat": 4
 },
 "nbformat": 4,
 "nbformat_minor": 2
}
