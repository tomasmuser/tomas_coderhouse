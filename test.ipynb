{
 "cells": [
  {
   "cell_type": "code",
   "execution_count": null,
   "metadata": {},
   "outputs": [],
   "source": [
    "import requests\n",
    "import pandas as pd\n",
    "import json\n",
    "from keys import claves as keys\n",
    "from datetime import date, timedelta\n",
    "import psycopg2\n",
    "key = keys.ver(303)"
   ]
  },
  {
   "cell_type": "code",
   "execution_count": null,
   "metadata": {},
   "outputs": [],
   "source": [
    "url=\"https://api.weatherbit.io/v2.0/history/daily?lat={0}&lon={1}&start_date={2}&end_date={3}&key={4}\"\n",
    "\n",
    "latitude = 40.776676\n",
    "longitude = -73.971321\n",
    "\n",
    "year = 2022\n",
    "month = 1\n",
    "day = 1\n",
    "\n",
    "# Dictionary with dtypes from pandas and sql data types.\n",
    "dic_pdtosql = {\n",
    "    'object': 'VARCHAR',\n",
    "    'int64': 'INTEGER',\n",
    "    'float64': 'FLOAT',\n",
    "    'bool': 'BIT',\n",
    "    'datetime64': 'DATETIME',\n",
    "    'timedelta64': 'INTERVAL',\n",
    "    'category': 'VARCHAR',\n",
    "    'string' : 'VARCHAR'\n",
    "}\n",
    "\n",
    "dic_types = {\n",
    "    'clouds': 'float',\n",
    "    'datetime': 'string',\n",
    "    'dewpt': 'float',\n",
    "    'dhi': 'float',\n",
    "    'dni': 'float',\n",
    "    'ghi': 'float',\n",
    "    'max_dhi': 'float',\n",
    "    'max_dni': 'float',\n",
    "    'max_ghi': 'float',\n",
    "    'max_temp': 'float',\n",
    "    'max_temp_ts': 'float',\n",
    "    'max_uv': 'float',\n",
    "    'max_wind_dir': 'float',\n",
    "    'max_wind_spd': 'float',\n",
    "    'max_wind_spd_ts': 'float',\n",
    "    'min_temp': 'float',\n",
    "    'min_temp_ts': 'float',\n",
    "    'precip': 'float',\n",
    "    'precip_gpm': 'float',\n",
    "    'pres': 'float',\n",
    "    'revision_status': 'string',\n",
    "    'rh': 'float',\n",
    "    'slp': 'float',\n",
    "    'snow': 'float',\n",
    "    'snow_depth': 'float',\n",
    "    'solar_rad': 'float',\n",
    "    't_dhi': 'float',\n",
    "    't_dni': 'float',\n",
    "    't_ghi': 'float',\n",
    "    't_solar_rad': 'float',\n",
    "    'temp': 'float',\n",
    "    'ts': 'float',\n",
    "    'wind_dir': 'float',\n",
    "    'wind_gust_spd': 'float',\n",
    "    'wind_spd': 'float'\n",
    "}\n",
    "\n",
    "pd.set_option('display.max_rows', None)\n",
    "pd.set_option('display.max_columns', None)"
   ]
  },
  {
   "cell_type": "code",
   "execution_count": null,
   "metadata": {},
   "outputs": [],
   "source": [
    "start_date = date(year,month,day) # 2023-04-04\n",
    "end_date = start_date + timedelta(1) # Request required furter date\n",
    "\n",
    "full_url = url.format(latitude,longitude,start_date,end_date,key)"
   ]
  },
  {
   "cell_type": "code",
   "execution_count": null,
   "metadata": {},
   "outputs": [],
   "source": [
    "response = requests.get(full_url)\n",
    "# print(response.text)\n",
    "if response.status_code == 200:\n",
    "    print(\"OK\")"
   ]
  },
  {
   "cell_type": "code",
   "execution_count": null,
   "metadata": {},
   "outputs": [],
   "source": [
    "json_data = json.loads(response.text, parse_constant=lambda x: x.replace(\"'\", '\"'))\n",
    "df = pd.json_normalize(json_data, record_path =['data'])\n",
    "df = df.astype(dic_types)"
   ]
  },
  {
   "cell_type": "code",
   "execution_count": null,
   "metadata": {},
   "outputs": [],
   "source": [
    "# Conection to the database.\n",
    "def conection():\n",
    "    conn = psycopg2.connect(\n",
    "        host=\"data-engineer-cluster.cyhh5bfevlmn.us-east-1.redshift.amazonaws.com\",\n",
    "        database=\"data-engineer-database\",\n",
    "        user= keys.ver(101),\n",
    "        password= keys.ver(202),\n",
    "        port=\"5439\")\n",
    "    return conn\n",
    "conn = conection()\n",
    "cursor = conn.cursor()"
   ]
  },
  {
   "cell_type": "code",
   "execution_count": null,
   "metadata": {},
   "outputs": [],
   "source": [
    "# df\n",
    "# for column in df.columns:\n",
    "#     print(column, df[column].dtype)"
   ]
  },
  {
   "cell_type": "code",
   "execution_count": null,
   "metadata": {},
   "outputs": [],
   "source": [
    "with cursor:\n",
    "    cursor.execute(\"DROP TABLE IF EXISTS daily_weather\")\n",
    "cursor = conn.cursor()\n",
    "# Table creation.\n",
    "table_name = \"daily_weather\"\n",
    "columns = []\n",
    "for column in df.columns:\n",
    "    data_type = dic_pdtosql[str(df[column].dtype)]\n",
    "    columns_sql = '{} {}'.format(column, data_type)\n",
    "    columns.append(columns_sql)\n",
    "\n",
    "make_table = \"CREATE TABLE {} ({})\".format(table_name, \", \".join(columns))\n",
    "\n",
    "with cursor:\n",
    "    cursor.execute(make_table)"
   ]
  },
  {
   "cell_type": "code",
   "execution_count": null,
   "metadata": {},
   "outputs": [],
   "source": [
    "row = df.iloc[0]\n",
    "column = ', '.join(row.index)\n",
    "values = ', '.join(['%({0})s'.format(col) for col in row.index])"
   ]
  },
  {
   "cell_type": "code",
   "execution_count": null,
   "metadata": {},
   "outputs": [],
   "source": [
    "# cursor = conn.cursor()\n",
    "# query = \"INSERT INTO {} ({}) VALUES ({})\".format(table_name, column, values)\n",
    "# print(query)\n",
    "# with cursor:\n",
    "#     cursor.execute(query, row)\n",
    "# conn.commit()"
   ]
  }
 ],
 "metadata": {
  "kernelspec": {
   "display_name": "base",
   "language": "python",
   "name": "python3"
  },
  "language_info": {
   "codemirror_mode": {
    "name": "ipython",
    "version": 3
   },
   "file_extension": ".py",
   "mimetype": "text/x-python",
   "name": "python",
   "nbconvert_exporter": "python",
   "pygments_lexer": "ipython3",
   "version": "3.9.12"
  },
  "orig_nbformat": 4
 },
 "nbformat": 4,
 "nbformat_minor": 2
}
