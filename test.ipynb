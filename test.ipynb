{
 "cells": [
  {
   "cell_type": "code",
   "execution_count": null,
   "metadata": {},
   "outputs": [],
   "source": [
    "import requests\n",
    "import pandas as pd\n",
    "import json\n",
    "from keys import api_key as key\n",
    "from datetime import date, timedelta\n",
    "import pyodbc"
   ]
  },
  {
   "cell_type": "code",
   "execution_count": null,
   "metadata": {},
   "outputs": [],
   "source": [
    "url=\"https://api.weatherbit.io/v2.0/history/daily?lat={0}&lon={1}&start_date={2}&end_date={3}&key={4}\"\n",
    "\n",
    "\n",
    "latitude = 40.776676\n",
    "longitude = -73.971321\n",
    "\n",
    "year = 2022\n",
    "month = 1\n",
    "day = 1"
   ]
  },
  {
   "cell_type": "code",
   "execution_count": null,
   "metadata": {},
   "outputs": [],
   "source": [
    "start_date = date(year,month,day) # 2023-04-04\n",
    "end_date = start_date + timedelta(1) # Request required furter date\n",
    "\n",
    "full_url = url.format(latitude,longitude,start_date,end_date,key)"
   ]
  },
  {
   "cell_type": "code",
   "execution_count": null,
   "metadata": {},
   "outputs": [],
   "source": [
    "full_url\n"
   ]
  },
  {
   "cell_type": "code",
   "execution_count": null,
   "metadata": {},
   "outputs": [],
   "source": [
    "response = requests.get(full_url)"
   ]
  },
  {
   "cell_type": "code",
   "execution_count": null,
   "metadata": {},
   "outputs": [],
   "source": [
    "print(response.text)"
   ]
  },
  {
   "cell_type": "code",
   "execution_count": null,
   "metadata": {},
   "outputs": [],
   "source": [
    "if response.status_code == 200:\n",
    "    print(\"OK\")"
   ]
  },
  {
   "cell_type": "code",
   "execution_count": null,
   "metadata": {},
   "outputs": [],
   "source": [
    "response.json()"
   ]
  },
  {
   "cell_type": "code",
   "execution_count": null,
   "metadata": {},
   "outputs": [],
   "source": [
    "json_data = json.loads(response.text, parse_constant=lambda x: x.replace(\"'\", '\"'))"
   ]
  },
  {
   "cell_type": "code",
   "execution_count": null,
   "metadata": {},
   "outputs": [],
   "source": [
    "json_data"
   ]
  },
  {
   "cell_type": "code",
   "execution_count": null,
   "metadata": {},
   "outputs": [],
   "source": [
    "df = pd.json_normalize(json_data, record_path =['data'])"
   ]
  },
  {
   "cell_type": "code",
   "execution_count": null,
   "metadata": {},
   "outputs": [],
   "source": [
    "df.columns\n"
   ]
  },
  {
   "cell_type": "code",
   "execution_count": null,
   "metadata": {},
   "outputs": [],
   "source": [
    "import psycopg2\n"
   ]
  },
  {
   "cell_type": "code",
   "execution_count": null,
   "metadata": {},
   "outputs": [],
   "source": [
    "def conection():\n",
    "    conn = psycopg2.connect(\n",
    "        host=\"data-engineer-cluster.cyhh5bfevlmn.us-east-1.redshift.amazonaws.com\",\n",
    "        database=\"data-engineer-database\",\n",
    "        user=\"tomas_muser_coderhouse\",\n",
    "        port=\"5439\",\n",
    "        password=\"Mq2Fed572VzN\")\n",
    "    \n",
    "    return conn\n",
    "conn = conection()\n",
    "cursor = conn.cursor()"
   ]
  },
  {
   "cell_type": "code",
   "execution_count": null,
   "metadata": {},
   "outputs": [],
   "source": [
    "# def conection():\n",
    "#     conn = pyodbc.connect(\"\"\"\n",
    "#             Driver={Amazon Redshift (x64)};\n",
    "#             Server=data-engineer-cluster.cyhh5bfevlmn.us-east-1.redshift.amazonaws.com;\n",
    "#             Database=data-engineer-database;\n",
    "#             UID=tomas_muser_coderhouse;\n",
    "#             PWD=Mq2Fed572VzN;\n",
    "#             Port=5439\n",
    "#             \"\"\")\n",
    "#     return conn\n",
    "# conn = conection()\n",
    "# cursor = conn.cursor()"
   ]
  },
  {
   "cell_type": "code",
   "execution_count": null,
   "metadata": {},
   "outputs": [],
   "source": [
    "# cursor.execute(\"\"\"\n",
    "#                 CREATE TABLE weather_daily\n",
    "#                 (clouds VARCHAR(15),\n",
    "#                 datetime VARCHAR(15),\n",
    "#                 dewpt VARCHAR(15),\n",
    "#                 dhi VARCHAR(15),\n",
    "#                 dni VARCHAR(15),\n",
    "#                 ghi VARCHAR(15),\n",
    "#                 max_dhi VARCHAR(15),\n",
    "#                 max_dni VARCHAR(15),\n",
    "#                 max_ghi VARCHAR(15),\n",
    "#                 max_temp VARCHAR(15),\n",
    "#                 max_temp_ts VARCHAR(15),\n",
    "#                 max_uv VARCHAR(15),\n",
    "#                 max_wind_dir VARCHAR(15),\n",
    "#                 max_wind_spd VARCHAR(15),\n",
    "#                 max_wind_spd_ts VARCHAR(15),\n",
    "#                 min_temp VARCHAR(15),\n",
    "#                 min_temp_ts VARCHAR(15),\n",
    "#                 precip VARCHAR(15),\n",
    "#                 precip_gpm VARCHAR(15),\n",
    "#                 pres VARCHAR(15),\n",
    "#                 revision_status VARCHAR(15),\n",
    "#                 rh VARCHAR(15),\n",
    "#                 slp VARCHAR(15),\n",
    "#                 snow VARCHAR(15),\n",
    "#                 snow_depth VARCHAR(15),\n",
    "#                 solar_rad VARCHAR(15),\n",
    "#                 t_dhi VARCHAR(15),\n",
    "#                 t_dni VARCHAR(15),\n",
    "#                 t_ghi VARCHAR(15),\n",
    "#                 t_solar_rad VARCHAR(15),\n",
    "#                 temp VARCHAR(15),\n",
    "#                 ts VARCHAR(15),\n",
    "#                 wind_dir VARCHAR(15),\n",
    "#                 wind_gust_spd VARCHAR(15),\n",
    "#                 wind_spd VARCHAR(15));\n",
    "#                 \"\"\")"
   ]
  }
 ],
 "metadata": {
  "kernelspec": {
   "display_name": "base",
   "language": "python",
   "name": "python3"
  },
  "language_info": {
   "codemirror_mode": {
    "name": "ipython",
    "version": 3
   },
   "file_extension": ".py",
   "mimetype": "text/x-python",
   "name": "python",
   "nbconvert_exporter": "python",
   "pygments_lexer": "ipython3",
   "version": "3.9.12"
  },
  "orig_nbformat": 4
 },
 "nbformat": 4,
 "nbformat_minor": 2
}
