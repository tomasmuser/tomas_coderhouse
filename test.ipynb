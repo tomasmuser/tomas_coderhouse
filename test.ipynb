{
 "cells": [
  {
   "cell_type": "code",
   "execution_count": 23,
   "metadata": {},
   "outputs": [],
   "source": [
    "import requests\n",
    "import pandas as pd\n",
    "import json\n",
    "import keys\n",
    "from datetime import date, timedelta\n",
    "import psycopg2"
   ]
  },
  {
   "cell_type": "code",
   "execution_count": 31,
   "metadata": {},
   "outputs": [
    {
     "name": "stdout",
     "output_type": "stream",
     "text": [
      "['__builtins__', '__cached__', '__doc__', '__file__', '__loader__', '__name__', '__package__', '__spec__', 'api_key']\n"
     ]
    }
   ],
   "source": [
    "print(dir(keys))\n"
   ]
  },
  {
   "cell_type": "code",
   "execution_count": 11,
   "metadata": {},
   "outputs": [],
   "source": [
    "url=\"https://api.weatherbit.io/v2.0/history/daily?lat={0}&lon={1}&start_date={2}&end_date={3}&key={4}\"\n",
    "\n",
    "\n",
    "latitude = 40.776676\n",
    "longitude = -73.971321\n",
    "\n",
    "year = 2022\n",
    "month = 1\n",
    "day = 1"
   ]
  },
  {
   "cell_type": "code",
   "execution_count": 12,
   "metadata": {},
   "outputs": [],
   "source": [
    "start_date = date(year,month,day) # 2023-04-04\n",
    "end_date = start_date + timedelta(1) # Request required furter date\n",
    "\n",
    "full_url = url.format(latitude,longitude,start_date,end_date,key)"
   ]
  },
  {
   "cell_type": "code",
   "execution_count": 13,
   "metadata": {},
   "outputs": [
    {
     "name": "stdout",
     "output_type": "stream",
     "text": [
      "{\"city_id\":\"5125771\",\"city_name\":\"Manhattan\",\"country_code\":\"US\",\"data\":[{\"clouds\":100,\"datetime\":\"2022-01-01\",\"dewpt\":10.4,\"dhi\":27,\"dni\":229,\"ghi\":99,\"max_dhi\":91,\"max_dni\":772,\"max_ghi\":426,\"max_temp\":13.3,\"max_temp_ts\":1641074400,\"max_uv\":0.7,\"max_wind_dir\":157,\"max_wind_spd\":4.5,\"max_wind_spd_ts\":1641063600,\"min_temp\":10,\"min_temp_ts\":1641031200,\"precip\":38.5,\"precip_gpm\":38.5,\"pres\":1003,\"revision_status\":\"final\",\"rh\":92.6,\"slp\":1008,\"snow\":0,\"snow_depth\":0,\"solar_rad\":10,\"t_dhi\":637,\"t_dni\":5502,\"t_ghi\":2368,\"t_solar_rad\":237,\"temp\":11.6,\"ts\":1641013200,\"wind_dir\":157,\"wind_gust_spd\":3.9,\"wind_spd\":2.1}],\"lat\":40.776676,\"lon\":-73.971321,\"sources\":[\"720553-99999\",\"725053-94728\",\"USW00094728\",\"imerg\",\"merra2\",\"era5\",\"modis\"],\"state_code\":\"NY\",\"station_id\":\"725053-94728\",\"timezone\":\"America/New_York\"}\n",
      "\n",
      "OK\n"
     ]
    }
   ],
   "source": [
    "response = requests.get(full_url)\n",
    "print(response.text)\n",
    "if response.status_code == 200:\n",
    "    print(\"OK\")"
   ]
  },
  {
   "cell_type": "code",
   "execution_count": 14,
   "metadata": {},
   "outputs": [],
   "source": [
    "json_data = json.loads(response.text, parse_constant=lambda x: x.replace(\"'\", '\"'))\n",
    "df = pd.json_normalize(json_data, record_path =['data'])"
   ]
  },
  {
   "cell_type": "code",
   "execution_count": 16,
   "metadata": {},
   "outputs": [
    {
     "ename": "AttributeError",
     "evalue": "module 'keys' has no attribute 'user_redshift'",
     "output_type": "error",
     "traceback": [
      "\u001b[1;31m---------------------------------------------------------------------------\u001b[0m",
      "\u001b[1;31mAttributeError\u001b[0m                            Traceback (most recent call last)",
      "\u001b[1;32mc:\\Users\\tomas\\OneDrive\\Documents\\Proyectos\\test.ipynb Cell 6\u001b[0m in \u001b[0;36m<cell line: 10>\u001b[1;34m()\u001b[0m\n\u001b[0;32m      <a href='vscode-notebook-cell:/c%3A/Users/tomas/OneDrive/Documents/Proyectos/test.ipynb#X16sZmlsZQ%3D%3D?line=1'>2</a>\u001b[0m     conn \u001b[39m=\u001b[39m psycopg2\u001b[39m.\u001b[39mconnect(\n\u001b[0;32m      <a href='vscode-notebook-cell:/c%3A/Users/tomas/OneDrive/Documents/Proyectos/test.ipynb#X16sZmlsZQ%3D%3D?line=2'>3</a>\u001b[0m         host\u001b[39m=\u001b[39m\u001b[39m\"\u001b[39m\u001b[39mdata-engineer-cluster.cyhh5bfevlmn.us-east-1.redshift.amazonaws.com\u001b[39m\u001b[39m\"\u001b[39m,\n\u001b[0;32m      <a href='vscode-notebook-cell:/c%3A/Users/tomas/OneDrive/Documents/Proyectos/test.ipynb#X16sZmlsZQ%3D%3D?line=3'>4</a>\u001b[0m         database\u001b[39m=\u001b[39m\u001b[39m\"\u001b[39m\u001b[39mdata-engineer-database\u001b[39m\u001b[39m\"\u001b[39m,\n\u001b[0;32m      <a href='vscode-notebook-cell:/c%3A/Users/tomas/OneDrive/Documents/Proyectos/test.ipynb#X16sZmlsZQ%3D%3D?line=4'>5</a>\u001b[0m         user\u001b[39m=\u001b[39m keys\u001b[39m.\u001b[39muser_redshift,\n\u001b[0;32m      <a href='vscode-notebook-cell:/c%3A/Users/tomas/OneDrive/Documents/Proyectos/test.ipynb#X16sZmlsZQ%3D%3D?line=5'>6</a>\u001b[0m         password\u001b[39m=\u001b[39m keys\u001b[39m.\u001b[39mpass_redshift,\n\u001b[0;32m      <a href='vscode-notebook-cell:/c%3A/Users/tomas/OneDrive/Documents/Proyectos/test.ipynb#X16sZmlsZQ%3D%3D?line=6'>7</a>\u001b[0m         port\u001b[39m=\u001b[39m\u001b[39m\"\u001b[39m\u001b[39m5439\u001b[39m\u001b[39m\"\u001b[39m)\n\u001b[0;32m      <a href='vscode-notebook-cell:/c%3A/Users/tomas/OneDrive/Documents/Proyectos/test.ipynb#X16sZmlsZQ%3D%3D?line=8'>9</a>\u001b[0m     \u001b[39mreturn\u001b[39;00m conn\n\u001b[1;32m---> <a href='vscode-notebook-cell:/c%3A/Users/tomas/OneDrive/Documents/Proyectos/test.ipynb#X16sZmlsZQ%3D%3D?line=9'>10</a>\u001b[0m conn \u001b[39m=\u001b[39m conection()\n\u001b[0;32m     <a href='vscode-notebook-cell:/c%3A/Users/tomas/OneDrive/Documents/Proyectos/test.ipynb#X16sZmlsZQ%3D%3D?line=10'>11</a>\u001b[0m cursor \u001b[39m=\u001b[39m conn\u001b[39m.\u001b[39mcursor()\n",
      "\u001b[1;32mc:\\Users\\tomas\\OneDrive\\Documents\\Proyectos\\test.ipynb Cell 6\u001b[0m in \u001b[0;36mconection\u001b[1;34m()\u001b[0m\n\u001b[0;32m      <a href='vscode-notebook-cell:/c%3A/Users/tomas/OneDrive/Documents/Proyectos/test.ipynb#X16sZmlsZQ%3D%3D?line=0'>1</a>\u001b[0m \u001b[39mdef\u001b[39;00m \u001b[39mconection\u001b[39m():\n\u001b[0;32m      <a href='vscode-notebook-cell:/c%3A/Users/tomas/OneDrive/Documents/Proyectos/test.ipynb#X16sZmlsZQ%3D%3D?line=1'>2</a>\u001b[0m     conn \u001b[39m=\u001b[39m psycopg2\u001b[39m.\u001b[39mconnect(\n\u001b[0;32m      <a href='vscode-notebook-cell:/c%3A/Users/tomas/OneDrive/Documents/Proyectos/test.ipynb#X16sZmlsZQ%3D%3D?line=2'>3</a>\u001b[0m         host\u001b[39m=\u001b[39m\u001b[39m\"\u001b[39m\u001b[39mdata-engineer-cluster.cyhh5bfevlmn.us-east-1.redshift.amazonaws.com\u001b[39m\u001b[39m\"\u001b[39m,\n\u001b[0;32m      <a href='vscode-notebook-cell:/c%3A/Users/tomas/OneDrive/Documents/Proyectos/test.ipynb#X16sZmlsZQ%3D%3D?line=3'>4</a>\u001b[0m         database\u001b[39m=\u001b[39m\u001b[39m\"\u001b[39m\u001b[39mdata-engineer-database\u001b[39m\u001b[39m\"\u001b[39m,\n\u001b[1;32m----> <a href='vscode-notebook-cell:/c%3A/Users/tomas/OneDrive/Documents/Proyectos/test.ipynb#X16sZmlsZQ%3D%3D?line=4'>5</a>\u001b[0m         user\u001b[39m=\u001b[39m keys\u001b[39m.\u001b[39;49muser_redshift,\n\u001b[0;32m      <a href='vscode-notebook-cell:/c%3A/Users/tomas/OneDrive/Documents/Proyectos/test.ipynb#X16sZmlsZQ%3D%3D?line=5'>6</a>\u001b[0m         password\u001b[39m=\u001b[39m keys\u001b[39m.\u001b[39mpass_redshift,\n\u001b[0;32m      <a href='vscode-notebook-cell:/c%3A/Users/tomas/OneDrive/Documents/Proyectos/test.ipynb#X16sZmlsZQ%3D%3D?line=6'>7</a>\u001b[0m         port\u001b[39m=\u001b[39m\u001b[39m\"\u001b[39m\u001b[39m5439\u001b[39m\u001b[39m\"\u001b[39m)\n\u001b[0;32m      <a href='vscode-notebook-cell:/c%3A/Users/tomas/OneDrive/Documents/Proyectos/test.ipynb#X16sZmlsZQ%3D%3D?line=8'>9</a>\u001b[0m     \u001b[39mreturn\u001b[39;00m conn\n",
      "\u001b[1;31mAttributeError\u001b[0m: module 'keys' has no attribute 'user_redshift'"
     ]
    }
   ],
   "source": [
    "def conection():\n",
    "    conn = psycopg2.connect(\n",
    "        host=\"data-engineer-cluster.cyhh5bfevlmn.us-east-1.redshift.amazonaws.com\",\n",
    "        database=\"data-engineer-database\",\n",
    "        user= keys.user_redshift,\n",
    "        password= keys.pass_redshift,\n",
    "        port=\"5439\")\n",
    "    \n",
    "    return conn\n",
    "conn = conection()\n",
    "cursor = conn.cursor()"
   ]
  },
  {
   "cell_type": "code",
   "execution_count": null,
   "metadata": {},
   "outputs": [],
   "source": [
    "with cursor:\n",
    "    cursor.execute(\"\"\"\n",
    "                    CREATE TABLE table_name (\n",
    "                    column1 datatype,\n",
    "                    column2 datatype,\n",
    "                    column3 datatype,\n",
    "                    \"\"\")"
   ]
  }
 ],
 "metadata": {
  "kernelspec": {
   "display_name": "base",
   "language": "python",
   "name": "python3"
  },
  "language_info": {
   "codemirror_mode": {
    "name": "ipython",
    "version": 3
   },
   "file_extension": ".py",
   "mimetype": "text/x-python",
   "name": "python",
   "nbconvert_exporter": "python",
   "pygments_lexer": "ipython3",
   "version": "3.9.12"
  },
  "orig_nbformat": 4
 },
 "nbformat": 4,
 "nbformat_minor": 2
}
