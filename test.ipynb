{
 "cells": [
  {
   "cell_type": "code",
   "execution_count": 1,
   "metadata": {},
   "outputs": [],
   "source": [
    "import requests\n",
    "import pandas as pd\n",
    "import json\n",
    "from keys import claves as keys\n",
    "from datetime import date, timedelta\n",
    "import psycopg2\n",
    "key = keys.ver(303)"
   ]
  },
  {
   "cell_type": "code",
   "execution_count": 2,
   "metadata": {},
   "outputs": [],
   "source": [
    "url=\"https://api.weatherbit.io/v2.0/history/daily?lat={0}&lon={1}&start_date={2}&end_date={3}&key={4}\"\n",
    "\n",
    "\n",
    "latitude = 40.776676\n",
    "longitude = -73.971321\n",
    "\n",
    "year = 2022\n",
    "month = 1\n",
    "day = 1"
   ]
  },
  {
   "cell_type": "code",
   "execution_count": 3,
   "metadata": {},
   "outputs": [],
   "source": [
    "start_date = date(year,month,day) # 2023-04-04\n",
    "end_date = start_date + timedelta(1) # Request required furter date\n",
    "\n",
    "full_url = url.format(latitude,longitude,start_date,end_date,key)"
   ]
  },
  {
   "cell_type": "code",
   "execution_count": 4,
   "metadata": {},
   "outputs": [
    {
     "name": "stdout",
     "output_type": "stream",
     "text": [
      "{\"city_id\":\"5125771\",\"city_name\":\"Manhattan\",\"country_code\":\"US\",\"data\":[{\"clouds\":100,\"datetime\":\"2022-01-01\",\"dewpt\":10.4,\"dhi\":27,\"dni\":229,\"ghi\":99,\"max_dhi\":91,\"max_dni\":772,\"max_ghi\":426,\"max_temp\":13.3,\"max_temp_ts\":1641074400,\"max_uv\":0.7,\"max_wind_dir\":157,\"max_wind_spd\":4.5,\"max_wind_spd_ts\":1641063600,\"min_temp\":10,\"min_temp_ts\":1641031200,\"precip\":38.5,\"precip_gpm\":38.5,\"pres\":1003,\"revision_status\":\"final\",\"rh\":92.6,\"slp\":1008,\"snow\":0,\"snow_depth\":0,\"solar_rad\":10,\"t_dhi\":637,\"t_dni\":5502,\"t_ghi\":2368,\"t_solar_rad\":237,\"temp\":11.6,\"ts\":1641013200,\"wind_dir\":157,\"wind_gust_spd\":3.9,\"wind_spd\":2.1}],\"lat\":40.776676,\"lon\":-73.971321,\"sources\":[\"720553-99999\",\"725053-94728\",\"USW00094728\",\"imerg\",\"merra2\",\"era5\",\"modis\"],\"state_code\":\"NY\",\"station_id\":\"725053-94728\",\"timezone\":\"America/New_York\"}\n",
      "\n",
      "OK\n"
     ]
    }
   ],
   "source": [
    "response = requests.get(full_url)\n",
    "print(response.text)\n",
    "if response.status_code == 200:\n",
    "    print(\"OK\")"
   ]
  },
  {
   "cell_type": "code",
   "execution_count": 5,
   "metadata": {},
   "outputs": [],
   "source": [
    "json_data = json.loads(response.text, parse_constant=lambda x: x.replace(\"'\", '\"'))\n",
    "df = pd.json_normalize(json_data, record_path =['data'])"
   ]
  },
  {
   "cell_type": "code",
   "execution_count": 6,
   "metadata": {},
   "outputs": [],
   "source": [
    "def conection():\n",
    "    conn = psycopg2.connect(\n",
    "        host=\"data-engineer-cluster.cyhh5bfevlmn.us-east-1.redshift.amazonaws.com\",\n",
    "        database=\"data-engineer-database\",\n",
    "        user= keys.ver(101),\n",
    "        password= keys.ver(202),\n",
    "        port=\"5439\")\n",
    "    \n",
    "    return conn\n",
    "conn = conection()\n",
    "cursor = conn.cursor()"
   ]
  },
  {
   "cell_type": "code",
   "execution_count": 7,
   "metadata": {},
   "outputs": [],
   "source": [
    "a = df.dtypes"
   ]
  },
  {
   "cell_type": "code",
   "execution_count": 8,
   "metadata": {},
   "outputs": [
    {
     "name": "stdout",
     "output_type": "stream",
     "text": [
      "clouds int64\n",
      "datetime object\n",
      "dewpt float64\n",
      "dhi int64\n",
      "dni int64\n",
      "ghi int64\n",
      "max_dhi int64\n",
      "max_dni int64\n",
      "max_ghi int64\n",
      "max_temp float64\n",
      "max_temp_ts int64\n",
      "max_uv float64\n",
      "max_wind_dir int64\n",
      "max_wind_spd float64\n",
      "max_wind_spd_ts int64\n",
      "min_temp int64\n",
      "min_temp_ts int64\n",
      "precip float64\n",
      "precip_gpm float64\n",
      "pres int64\n",
      "revision_status object\n",
      "rh float64\n",
      "slp int64\n",
      "snow int64\n",
      "snow_depth int64\n",
      "solar_rad int64\n",
      "t_dhi int64\n",
      "t_dni int64\n",
      "t_ghi int64\n",
      "t_solar_rad int64\n",
      "temp float64\n",
      "ts int64\n",
      "wind_dir int64\n",
      "wind_gust_spd float64\n",
      "wind_spd float64\n"
     ]
    }
   ],
   "source": [
    "for column in df.columns:\n",
    "    print(column, df[column].dtype)"
   ]
  },
  {
   "cell_type": "code",
   "execution_count": 9,
   "metadata": {},
   "outputs": [],
   "source": [
    "dic_pdtosql = {\n",
    "    'object': 'VARCHAR',\n",
    "    'int64': 'INTEGER',\n",
    "    'float64': 'FLOAT',\n",
    "    'bool': 'BIT',\n",
    "    'datetime64': 'DATETIME',\n",
    "    'timedelta64': 'INTERVAL',\n",
    "    'category': 'VARCHAR'\n",
    "}"
   ]
  },
  {
   "cell_type": "code",
   "execution_count": 10,
   "metadata": {},
   "outputs": [],
   "source": [
    "table_name = \"daily_weather\"\n",
    "columns = []"
   ]
  },
  {
   "cell_type": "code",
   "execution_count": 11,
   "metadata": {},
   "outputs": [],
   "source": [
    "for column in df.columns:\n",
    "    data_type = dic_pdtosql[str(df[column].dtype)]\n",
    "    columns_sql = '{} {}'.format(column, data_type)\n",
    "    columns.append(columns_sql)"
   ]
  },
  {
   "cell_type": "code",
   "execution_count": 14,
   "metadata": {},
   "outputs": [
    {
     "name": "stdout",
     "output_type": "stream",
     "text": [
      "clouds INTEGER\n",
      "datetime VARCHAR\n",
      "dewpt FLOAT\n",
      "dhi INTEGER\n",
      "dni INTEGER\n",
      "ghi INTEGER\n",
      "max_dhi INTEGER\n",
      "max_dni INTEGER\n",
      "max_ghi INTEGER\n",
      "max_temp FLOAT\n",
      "max_temp_ts INTEGER\n",
      "max_uv FLOAT\n",
      "max_wind_dir INTEGER\n",
      "max_wind_spd FLOAT\n",
      "max_wind_spd_ts INTEGER\n",
      "min_temp INTEGER\n",
      "min_temp_ts INTEGER\n",
      "precip FLOAT\n",
      "precip_gpm FLOAT\n",
      "pres INTEGER\n",
      "revision_status VARCHAR\n",
      "rh FLOAT\n",
      "slp INTEGER\n",
      "snow INTEGER\n",
      "snow_depth INTEGER\n",
      "solar_rad INTEGER\n",
      "t_dhi INTEGER\n",
      "t_dni INTEGER\n",
      "t_ghi INTEGER\n",
      "t_solar_rad INTEGER\n",
      "temp FLOAT\n",
      "ts INTEGER\n",
      "wind_dir INTEGER\n",
      "wind_gust_spd FLOAT\n",
      "wind_spd FLOAT\n"
     ]
    }
   ],
   "source": [
    "for i in columns:\n",
    "    print(i)"
   ]
  },
  {
   "cell_type": "code",
   "execution_count": 15,
   "metadata": {},
   "outputs": [
    {
     "name": "stdout",
     "output_type": "stream",
     "text": [
      "CREATE TABLE daily_weather (clouds INTEGER, datetime VARCHAR, dewpt FLOAT, dhi INTEGER, dni INTEGER, ghi INTEGER, max_dhi INTEGER, max_dni INTEGER, max_ghi INTEGER, max_temp FLOAT, max_temp_ts INTEGER, max_uv FLOAT, max_wind_dir INTEGER, max_wind_spd FLOAT, max_wind_spd_ts INTEGER, min_temp INTEGER, min_temp_ts INTEGER, precip FLOAT, precip_gpm FLOAT, pres INTEGER, revision_status VARCHAR, rh FLOAT, slp INTEGER, snow INTEGER, snow_depth INTEGER, solar_rad INTEGER, t_dhi INTEGER, t_dni INTEGER, t_ghi INTEGER, t_solar_rad INTEGER, temp FLOAT, ts INTEGER, wind_dir INTEGER, wind_gust_spd FLOAT, wind_spd FLOAT)\n"
     ]
    }
   ],
   "source": [
    "make_table = \"CREATE TABLE {} ({})\".format(table_name, \", \".join(columns))"
   ]
  },
  {
   "cell_type": "code",
   "execution_count": 16,
   "metadata": {},
   "outputs": [],
   "source": [
    "with cursor:\n",
    "    cursor.execute(make_table)"
   ]
  },
  {
   "cell_type": "code",
   "execution_count": null,
   "metadata": {},
   "outputs": [],
   "source": []
  }
 ],
 "metadata": {
  "kernelspec": {
   "display_name": "base",
   "language": "python",
   "name": "python3"
  },
  "language_info": {
   "codemirror_mode": {
    "name": "ipython",
    "version": 3
   },
   "file_extension": ".py",
   "mimetype": "text/x-python",
   "name": "python",
   "nbconvert_exporter": "python",
   "pygments_lexer": "ipython3",
   "version": "3.9.12"
  },
  "orig_nbformat": 4
 },
 "nbformat": 4,
 "nbformat_minor": 2
}
